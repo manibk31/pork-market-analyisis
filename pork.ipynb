{
 "cells": [
  {
   "cell_type": "code",
   "execution_count": 114,
   "metadata": {
    "collapsed": true
   },
   "outputs": [],
   "source": [
    "import pandas as pd \n",
    "import numpy as np\n",
    "from sklearn.preprocessing import LabelEncoder\n",
    "import os\n",
    "source=\"C:/t.csv\"\n",
    "dest_directory=\"D:/cleaned\""
   ]
  },
  {
   "cell_type": "code",
   "execution_count": 115,
   "metadata": {
    "collapsed": true
   },
   "outputs": [],
   "source": [
    "data=pd.read_csv(source)"
   ]
  },
  {
   "cell_type": "code",
   "execution_count": 116,
   "metadata": {
    "collapsed": true
   },
   "outputs": [],
   "source": [
    "import matplotlib.pyplot as plt\n",
    "%matplotlib inline "
   ]
  },
  {
   "cell_type": "code",
   "execution_count": 117,
   "metadata": {
    "collapsed": true
   },
   "outputs": [],
   "source": [
    "columns=['Unnamed: 0','Partner_Reporter','source','yearmonth','product_code','currency','countryo','year','month','ParRepYM','YearWeeknum','YearMonth','Month','Time','TimeRow']"
   ]
  },
  {
   "cell_type": "code",
   "execution_count": 148,
   "metadata": {
    "collapsed": true
   },
   "outputs": [],
   "source": [
    "def clean_data(df,columns):\n",
    "    df=df.drop(columns,axis=1)\n",
    "    new=df.dropna()\n",
    "    return new\n"
   ]
  },
  {
   "cell_type": "code",
   "execution_count": 149,
   "metadata": {
    "collapsed": true
   },
   "outputs": [],
   "source": [
    "new_data=clean_data(data,columns)"
   ]
  },
  {
   "cell_type": "code",
   "execution_count": 150,
   "metadata": {},
   "outputs": [
    {
     "data": {
      "text/html": [
       "<div>\n",
       "<table border=\"1\" class=\"dataframe\">\n",
       "  <thead>\n",
       "    <tr style=\"text-align: right;\">\n",
       "      <th></th>\n",
       "      <th>reporter</th>\n",
       "      <th>partner</th>\n",
       "      <th>value</th>\n",
       "      <th>weight_unit</th>\n",
       "      <th>quantity</th>\n",
       "      <th>rate</th>\n",
       "      <th>pork</th>\n",
       "      <th>primal</th>\n",
       "      <th>subprimal</th>\n",
       "      <th>cor_Value</th>\n",
       "      <th>...</th>\n",
       "      <th>USKill</th>\n",
       "      <th>SowKillGer</th>\n",
       "      <th>SowKillIRE</th>\n",
       "      <th>SowKillGB</th>\n",
       "      <th>EUProdkg</th>\n",
       "      <th>EUProdhd</th>\n",
       "      <th>EUDead_Weightkg</th>\n",
       "      <th>USDeadWeight_y</th>\n",
       "      <th>USProdhd</th>\n",
       "      <th>USProdkg</th>\n",
       "    </tr>\n",
       "  </thead>\n",
       "  <tbody>\n",
       "    <tr>\n",
       "      <th>38258</th>\n",
       "      <td>Canada</td>\n",
       "      <td>Angola</td>\n",
       "      <td>79123.0</td>\n",
       "      <td>MT</td>\n",
       "      <td>79.325</td>\n",
       "      <td>0.623707</td>\n",
       "      <td>203.0</td>\n",
       "      <td>20322.0</td>\n",
       "      <td>2032200.0</td>\n",
       "      <td>53111.11034</td>\n",
       "      <td>...</td>\n",
       "      <td>1995900</td>\n",
       "      <td>16119.0</td>\n",
       "      <td>1240.0</td>\n",
       "      <td>4503.0</td>\n",
       "      <td>2007.52</td>\n",
       "      <td>22303.94</td>\n",
       "      <td>90.007416</td>\n",
       "      <td>93.093169</td>\n",
       "      <td>9146600</td>\n",
       "      <td>851485983.9</td>\n",
       "    </tr>\n",
       "    <tr>\n",
       "      <th>38259</th>\n",
       "      <td>Canada</td>\n",
       "      <td>Angola</td>\n",
       "      <td>79123.0</td>\n",
       "      <td>MT</td>\n",
       "      <td>79.325</td>\n",
       "      <td>0.623707</td>\n",
       "      <td>203.0</td>\n",
       "      <td>20322.0</td>\n",
       "      <td>2032200.0</td>\n",
       "      <td>53111.11034</td>\n",
       "      <td>...</td>\n",
       "      <td>2434500</td>\n",
       "      <td>25167.0</td>\n",
       "      <td>2624.0</td>\n",
       "      <td>6319.0</td>\n",
       "      <td>2007.52</td>\n",
       "      <td>22303.94</td>\n",
       "      <td>90.007416</td>\n",
       "      <td>93.093169</td>\n",
       "      <td>9146600</td>\n",
       "      <td>851485983.9</td>\n",
       "    </tr>\n",
       "    <tr>\n",
       "      <th>38260</th>\n",
       "      <td>Canada</td>\n",
       "      <td>Angola</td>\n",
       "      <td>79123.0</td>\n",
       "      <td>MT</td>\n",
       "      <td>79.325</td>\n",
       "      <td>0.623707</td>\n",
       "      <td>203.0</td>\n",
       "      <td>20322.0</td>\n",
       "      <td>2032200.0</td>\n",
       "      <td>53111.11034</td>\n",
       "      <td>...</td>\n",
       "      <td>2418800</td>\n",
       "      <td>20994.0</td>\n",
       "      <td>2144.0</td>\n",
       "      <td>5840.0</td>\n",
       "      <td>2007.52</td>\n",
       "      <td>22303.94</td>\n",
       "      <td>90.007416</td>\n",
       "      <td>93.093169</td>\n",
       "      <td>9146600</td>\n",
       "      <td>851485983.9</td>\n",
       "    </tr>\n",
       "    <tr>\n",
       "      <th>38261</th>\n",
       "      <td>Canada</td>\n",
       "      <td>Angola</td>\n",
       "      <td>79123.0</td>\n",
       "      <td>MT</td>\n",
       "      <td>79.325</td>\n",
       "      <td>0.623707</td>\n",
       "      <td>203.0</td>\n",
       "      <td>20322.0</td>\n",
       "      <td>2032200.0</td>\n",
       "      <td>53111.11034</td>\n",
       "      <td>...</td>\n",
       "      <td>2297400</td>\n",
       "      <td>20521.0</td>\n",
       "      <td>2037.0</td>\n",
       "      <td>5114.0</td>\n",
       "      <td>2007.52</td>\n",
       "      <td>22303.94</td>\n",
       "      <td>90.007416</td>\n",
       "      <td>93.093169</td>\n",
       "      <td>9146600</td>\n",
       "      <td>851485983.9</td>\n",
       "    </tr>\n",
       "    <tr>\n",
       "      <th>38262</th>\n",
       "      <td>Canada</td>\n",
       "      <td>Australia</td>\n",
       "      <td>654322.0</td>\n",
       "      <td>MT</td>\n",
       "      <td>219.707</td>\n",
       "      <td>0.623707</td>\n",
       "      <td>203.0</td>\n",
       "      <td>20319.0</td>\n",
       "      <td>2031900.0</td>\n",
       "      <td>439211.96040</td>\n",
       "      <td>...</td>\n",
       "      <td>1995900</td>\n",
       "      <td>16119.0</td>\n",
       "      <td>1240.0</td>\n",
       "      <td>4503.0</td>\n",
       "      <td>2007.52</td>\n",
       "      <td>22303.94</td>\n",
       "      <td>90.007416</td>\n",
       "      <td>93.093169</td>\n",
       "      <td>9146600</td>\n",
       "      <td>851485983.9</td>\n",
       "    </tr>\n",
       "  </tbody>\n",
       "</table>\n",
       "<p>5 rows × 49 columns</p>\n",
       "</div>"
      ],
      "text/plain": [
       "      reporter    partner     value weight_unit  quantity      rate   pork  \\\n",
       "38258   Canada     Angola   79123.0          MT    79.325  0.623707  203.0   \n",
       "38259   Canada     Angola   79123.0          MT    79.325  0.623707  203.0   \n",
       "38260   Canada     Angola   79123.0          MT    79.325  0.623707  203.0   \n",
       "38261   Canada     Angola   79123.0          MT    79.325  0.623707  203.0   \n",
       "38262   Canada  Australia  654322.0          MT   219.707  0.623707  203.0   \n",
       "\n",
       "        primal  subprimal     cor_Value     ...        USKill  SowKillGer  \\\n",
       "38258  20322.0  2032200.0   53111.11034     ...       1995900     16119.0   \n",
       "38259  20322.0  2032200.0   53111.11034     ...       2434500     25167.0   \n",
       "38260  20322.0  2032200.0   53111.11034     ...       2418800     20994.0   \n",
       "38261  20322.0  2032200.0   53111.11034     ...       2297400     20521.0   \n",
       "38262  20319.0  2031900.0  439211.96040     ...       1995900     16119.0   \n",
       "\n",
       "       SowKillIRE  SowKillGB  EUProdkg  EUProdhd  EUDead_Weightkg  \\\n",
       "38258      1240.0     4503.0   2007.52  22303.94        90.007416   \n",
       "38259      2624.0     6319.0   2007.52  22303.94        90.007416   \n",
       "38260      2144.0     5840.0   2007.52  22303.94        90.007416   \n",
       "38261      2037.0     5114.0   2007.52  22303.94        90.007416   \n",
       "38262      1240.0     4503.0   2007.52  22303.94        90.007416   \n",
       "\n",
       "       USDeadWeight_y  USProdhd     USProdkg  \n",
       "38258       93.093169   9146600  851485983.9  \n",
       "38259       93.093169   9146600  851485983.9  \n",
       "38260       93.093169   9146600  851485983.9  \n",
       "38261       93.093169   9146600  851485983.9  \n",
       "38262       93.093169   9146600  851485983.9  \n",
       "\n",
       "[5 rows x 49 columns]"
      ]
     },
     "execution_count": 150,
     "metadata": {},
     "output_type": "execute_result"
    }
   ],
   "source": [
    "new_data.head()"
   ]
  },
  {
   "cell_type": "code",
   "execution_count": 151,
   "metadata": {
    "collapsed": true
   },
   "outputs": [],
   "source": [
    "if not os.path.exists(dest_directory):\n",
    "    os.makedirs(dest_directory)"
   ]
  },
  {
   "cell_type": "code",
   "execution_count": 152,
   "metadata": {
    "collapsed": true
   },
   "outputs": [],
   "source": [
    " cols = list(new_data.select_dtypes(include=['category','object']))"
   ]
  },
  {
   "cell_type": "code",
   "execution_count": 153,
   "metadata": {
    "collapsed": true
   },
   "outputs": [],
   "source": [
    "def encoding(df):\n",
    "    cols = list(new_data.select_dtypes(include=['category','object']))\n",
    "    le=LabelEncoder()\n",
    "    for col in cols:\n",
    "        try:\n",
    "            df[col]=le.fit_transform(df[col])\n",
    "        except:\n",
    "            print('Error encoding column: '+col)\n",
    "    return df"
   ]
  },
  {
   "cell_type": "code",
   "execution_count": 154,
   "metadata": {
    "collapsed": true
   },
   "outputs": [],
   "source": [
    "data_clean=encoding(new_data)"
   ]
  },
  {
   "cell_type": "code",
   "execution_count": 155,
   "metadata": {
    "scrolled": true
   },
   "outputs": [
    {
     "ename": "PermissionError",
     "evalue": "[Errno 13] Permission denied: 'D:/cleaned/pork_cleaned.csv'",
     "output_type": "error",
     "traceback": [
      "\u001b[0;31m---------------------------------------------------------------------------\u001b[0m",
      "\u001b[0;31mPermissionError\u001b[0m                           Traceback (most recent call last)",
      "\u001b[0;32m<ipython-input-155-ae9923596347>\u001b[0m in \u001b[0;36m<module>\u001b[0;34m()\u001b[0m\n\u001b[0;32m----> 1\u001b[0;31m \u001b[0mdata_clean\u001b[0m\u001b[1;33m.\u001b[0m\u001b[0mto_csv\u001b[0m\u001b[1;33m(\u001b[0m\u001b[0mdest_directory\u001b[0m\u001b[1;33m+\u001b[0m\u001b[1;34m'/pork_cleaned.csv'\u001b[0m\u001b[1;33m)\u001b[0m\u001b[1;33m\u001b[0m\u001b[0m\n\u001b[0m",
      "\u001b[0;32mC:\\Users\\mani\\Anaconda3\\lib\\site-packages\\pandas\\core\\frame.py\u001b[0m in \u001b[0;36mto_csv\u001b[0;34m(self, path_or_buf, sep, na_rep, float_format, columns, header, index, index_label, mode, encoding, compression, quoting, quotechar, line_terminator, chunksize, tupleize_cols, date_format, doublequote, escapechar, decimal)\u001b[0m\n\u001b[1;32m   1381\u001b[0m                                      \u001b[0mdoublequote\u001b[0m\u001b[1;33m=\u001b[0m\u001b[0mdoublequote\u001b[0m\u001b[1;33m,\u001b[0m\u001b[1;33m\u001b[0m\u001b[0m\n\u001b[1;32m   1382\u001b[0m                                      escapechar=escapechar, decimal=decimal)\n\u001b[0;32m-> 1383\u001b[0;31m         \u001b[0mformatter\u001b[0m\u001b[1;33m.\u001b[0m\u001b[0msave\u001b[0m\u001b[1;33m(\u001b[0m\u001b[1;33m)\u001b[0m\u001b[1;33m\u001b[0m\u001b[0m\n\u001b[0m\u001b[1;32m   1384\u001b[0m \u001b[1;33m\u001b[0m\u001b[0m\n\u001b[1;32m   1385\u001b[0m         \u001b[1;32mif\u001b[0m \u001b[0mpath_or_buf\u001b[0m \u001b[1;32mis\u001b[0m \u001b[1;32mNone\u001b[0m\u001b[1;33m:\u001b[0m\u001b[1;33m\u001b[0m\u001b[0m\n",
      "\u001b[0;32mC:\\Users\\mani\\Anaconda3\\lib\\site-packages\\pandas\\formats\\format.py\u001b[0m in \u001b[0;36msave\u001b[0;34m(self)\u001b[0m\n\u001b[1;32m   1458\u001b[0m             f = _get_handle(self.path_or_buf, self.mode,\n\u001b[1;32m   1459\u001b[0m                             \u001b[0mencoding\u001b[0m\u001b[1;33m=\u001b[0m\u001b[0mself\u001b[0m\u001b[1;33m.\u001b[0m\u001b[0mencoding\u001b[0m\u001b[1;33m,\u001b[0m\u001b[1;33m\u001b[0m\u001b[0m\n\u001b[0;32m-> 1460\u001b[0;31m                             compression=self.compression)\n\u001b[0m\u001b[1;32m   1461\u001b[0m             \u001b[0mclose\u001b[0m \u001b[1;33m=\u001b[0m \u001b[1;32mTrue\u001b[0m\u001b[1;33m\u001b[0m\u001b[0m\n\u001b[1;32m   1462\u001b[0m \u001b[1;33m\u001b[0m\u001b[0m\n",
      "\u001b[0;32mC:\\Users\\mani\\Anaconda3\\lib\\site-packages\\pandas\\io\\common.py\u001b[0m in \u001b[0;36m_get_handle\u001b[0;34m(path, mode, encoding, compression, memory_map)\u001b[0m\n\u001b[1;32m    330\u001b[0m                 \u001b[0mf\u001b[0m \u001b[1;33m=\u001b[0m \u001b[0mopen\u001b[0m\u001b[1;33m(\u001b[0m\u001b[0mpath\u001b[0m\u001b[1;33m,\u001b[0m \u001b[0mmode\u001b[0m\u001b[1;33m,\u001b[0m \u001b[0mencoding\u001b[0m\u001b[1;33m=\u001b[0m\u001b[0mencoding\u001b[0m\u001b[1;33m)\u001b[0m\u001b[1;33m\u001b[0m\u001b[0m\n\u001b[1;32m    331\u001b[0m             \u001b[1;32melse\u001b[0m\u001b[1;33m:\u001b[0m\u001b[1;33m\u001b[0m\u001b[0m\n\u001b[0;32m--> 332\u001b[0;31m                 \u001b[0mf\u001b[0m \u001b[1;33m=\u001b[0m \u001b[0mopen\u001b[0m\u001b[1;33m(\u001b[0m\u001b[0mpath\u001b[0m\u001b[1;33m,\u001b[0m \u001b[0mmode\u001b[0m\u001b[1;33m,\u001b[0m \u001b[0merrors\u001b[0m\u001b[1;33m=\u001b[0m\u001b[1;34m'replace'\u001b[0m\u001b[1;33m)\u001b[0m\u001b[1;33m\u001b[0m\u001b[0m\n\u001b[0m\u001b[1;32m    333\u001b[0m         \u001b[1;32melse\u001b[0m\u001b[1;33m:\u001b[0m\u001b[1;33m\u001b[0m\u001b[0m\n\u001b[1;32m    334\u001b[0m             \u001b[0mf\u001b[0m \u001b[1;33m=\u001b[0m \u001b[0mopen\u001b[0m\u001b[1;33m(\u001b[0m\u001b[0mpath\u001b[0m\u001b[1;33m,\u001b[0m \u001b[0mmode\u001b[0m\u001b[1;33m)\u001b[0m\u001b[1;33m\u001b[0m\u001b[0m\n",
      "\u001b[0;31mPermissionError\u001b[0m: [Errno 13] Permission denied: 'D:/cleaned/pork_cleaned.csv'"
     ]
    }
   ],
   "source": [
    "data_clean.to_csv(dest_directory+'/pork_cleaned.csv')"
   ]
  },
  {
   "cell_type": "code",
   "execution_count": null,
   "metadata": {
    "collapsed": true
   },
   "outputs": [],
   "source": []
  },
  {
   "cell_type": "code",
   "execution_count": 198,
   "metadata": {
    "collapsed": true
   },
   "outputs": [],
   "source": [
    "targets=data_clean[['reporter','partner']].values"
   ]
  },
  {
   "cell_type": "code",
   "execution_count": 199,
   "metadata": {
    "collapsed": true
   },
   "outputs": [],
   "source": [
    "features=data_clean.drop(['reporter','partner'],axis=1)"
   ]
  },
  {
   "cell_type": "code",
   "execution_count": 200,
   "metadata": {
    "collapsed": true
   },
   "outputs": [],
   "source": [
    "from sklearn.model_selection import train_test_split"
   ]
  },
  {
   "cell_type": "code",
   "execution_count": 205,
   "metadata": {
    "collapsed": true
   },
   "outputs": [],
   "source": [
    "X_train, X_test, y_train, y_test = train_test_split(features, targets, test_size=0.33, random_state=42)"
   ]
  },
  {
   "cell_type": "code",
   "execution_count": null,
   "metadata": {
    "collapsed": true
   },
   "outputs": [],
   "source": []
  },
  {
   "cell_type": "code",
   "execution_count": 203,
   "metadata": {
    "collapsed": true
   },
   "outputs": [],
   "source": [
    "from sklearn.ensemble import RandomForestClassifier"
   ]
  },
  {
   "cell_type": "code",
   "execution_count": 204,
   "metadata": {
    "collapsed": true
   },
   "outputs": [],
   "source": [
    "clf = RandomForestClassifier(n_estimators=25)"
   ]
  },
  {
   "cell_type": "code",
   "execution_count": 172,
   "metadata": {},
   "outputs": [
    {
     "name": "stderr",
     "output_type": "stream",
     "text": [
      "C:\\Users\\mani\\Anaconda3\\lib\\site-packages\\ipykernel\\__main__.py:1: DataConversionWarning: A column-vector y was passed when a 1d array was expected. Please change the shape of y to (n_samples,), for example using ravel().\n",
      "  if __name__ == '__main__':\n"
     ]
    },
    {
     "data": {
      "text/plain": [
       "RandomForestClassifier(bootstrap=True, class_weight=None, criterion='gini',\n",
       "            max_depth=None, max_features='auto', max_leaf_nodes=None,\n",
       "            min_impurity_split=1e-07, min_samples_leaf=1,\n",
       "            min_samples_split=2, min_weight_fraction_leaf=0.0,\n",
       "            n_estimators=25, n_jobs=1, oob_score=False, random_state=None,\n",
       "            verbose=0, warm_start=False)"
      ]
     },
     "execution_count": 172,
     "metadata": {},
     "output_type": "execute_result"
    }
   ],
   "source": [
    "clf.fit(X_train,y_train)"
   ]
  },
  {
   "cell_type": "code",
   "execution_count": 173,
   "metadata": {
    "collapsed": true
   },
   "outputs": [],
   "source": [
    "score=clf.score(X_test,y_test)"
   ]
  },
  {
   "cell_type": "code",
   "execution_count": 174,
   "metadata": {},
   "outputs": [
    {
     "name": "stdout",
     "output_type": "stream",
     "text": [
      "0.976247424634\n"
     ]
    }
   ],
   "source": [
    "print(score)"
   ]
  },
  {
   "cell_type": "code",
   "execution_count": 177,
   "metadata": {},
   "outputs": [
    {
     "name": "stderr",
     "output_type": "stream",
     "text": [
      "C:\\Users\\mani\\Anaconda3\\lib\\site-packages\\numpy\\lib\\function_base.py:3003: RuntimeWarning: invalid value encountered in true_divide\n",
      "  c /= stddev[:, None]\n",
      "C:\\Users\\mani\\Anaconda3\\lib\\site-packages\\numpy\\lib\\function_base.py:3004: RuntimeWarning: invalid value encountered in true_divide\n",
      "  c /= stddev[None, :]\n"
     ]
    }
   ],
   "source": [
    "corr=np.corrcoef(features.values,rowvar=0)"
   ]
  },
  {
   "cell_type": "code",
   "execution_count": 181,
   "metadata": {},
   "outputs": [
    {
     "data": {
      "text/plain": [
       "<function ndarray.view>"
      ]
     },
     "execution_count": 181,
     "metadata": {},
     "output_type": "execute_result"
    }
   ],
   "source": [
    "corr.view"
   ]
  },
  {
   "cell_type": "code",
   "execution_count": 183,
   "metadata": {},
   "outputs": [
    {
     "name": "stderr",
     "output_type": "stream",
     "text": [
      "C:\\Users\\mani\\Anaconda3\\lib\\site-packages\\IPython\\html.py:14: ShimWarning: The `IPython.html` package has been deprecated. You should import from `notebook` instead. `IPython.html.widgets` has moved to `ipywidgets`.\n",
      "  \"`IPython.html.widgets` has moved to `ipywidgets`.\", ShimWarning)\n"
     ]
    }
   ],
   "source": [
    "import seaborn as sns"
   ]
  },
  {
   "cell_type": "code",
   "execution_count": 187,
   "metadata": {},
   "outputs": [
    {
     "data": {
      "text/plain": [
       "<matplotlib.axes._subplots.AxesSubplot at 0xbf8730aa58>"
      ]
     },
     "execution_count": 187,
     "metadata": {},
     "output_type": "execute_result"
    },
    {
     "data": {
      "image/png": "[encoded data removed]",
      "text/plain": [
       "<matplotlib.figure.Figure at 0xbf87300400>"
      ]
     },
     "metadata": {},
     "output_type": "display_data"
    }
   ],
   "source": [
    "sns.heatmap(corr, vmax=.3,\n",
    "            square=True, xticklabels=5, yticklabels=5,\n",
    "            linewidths=.5, cbar_kws={\"shrink\": .5})"
   ]
  },
  {
   "cell_type": "code",
   "execution_count": 188,
   "metadata": {
    "collapsed": true
   },
   "outputs": [],
   "source": [
    "from statsmodels.stats.outliers_influence import variance_inflation_factor "
   ]
  },
  {
   "cell_type": "code",
   "execution_count": 191,
   "metadata": {
    "collapsed": true
   },
   "outputs": [],
   "source": [
    "def calculate_vif_(X):\n",
    "\n",
    "    '''X - pandas dataframe'''\n",
    "    thresh = 5.0\n",
    "    variables = range(X.shape[1])\n",
    "\n",
    "    for i in np.arange(0, len(variables)):\n",
    "        vif = [variance_inflation_factor(X[variables].values, ix) for ix in range(X[variables].shape[1])]\n",
    "        print(vif)\n",
    "        maxloc = vif.index(max(vif))\n",
    "        if max(vif) > thresh:\n",
    "            print('dropping \\'' + X[variables].columns[maxloc] + '\\' at index: ' + str(maxloc))\n",
    "            del variables[maxloc]\n",
    "\n",
    "    print('Remaining variables:')\n",
    "    print(X.columns[variables])\n",
    "    return X"
   ]
  },
  {
   "cell_type": "code",
   "execution_count": 197,
   "metadata": {
    "collapsed": true
   },
   "outputs": [],
   "source": [
    "from sklearn.multioutput import MultiOutputClassifier"
   ]
  },
  {
   "cell_type": "code",
   "execution_count": null,
   "metadata": {
    "collapsed": true
   },
   "outputs": [],
   "source": []
  },
  {
   "cell_type": "code",
   "execution_count": 207,
   "metadata": {
    "collapsed": true
   },
   "outputs": [],
   "source": [
    "forest = RandomForestClassifier(n_estimators=100, random_state=1, verbose= True)"
   ]
  },
  {
   "cell_type": "code",
   "execution_count": 208,
   "metadata": {
    "collapsed": true
   },
   "outputs": [],
   "source": [
    "multi_target_forest = MultiOutputClassifier(forest, n_jobs=-1)"
   ]
  },
  {
   "cell_type": "code",
   "execution_count": null,
   "metadata": {
    "collapsed": true
   },
   "outputs": [],
   "source": [
    "multi_target_forest.fit(X_train, y_train).score(X_test, y_test)"
   ]
  },
  {
   "cell_type": "code",
   "execution_count": 1,
   "metadata": {
    "collapsed": true
   },
   "outputs": [],
   "source": []
  },
  {
   "cell_type": "code",
   "execution_count": 12,
   "metadata": {
    "collapsed": true
   },
   "outputs": [],
   "source": []
  },
  {
   "cell_type": "code",
   "execution_count": null,
   "metadata": {
    "collapsed": true
   },
   "outputs": [],
   "source": []
  },
  {
   "cell_type": "code",
   "execution_count": null,
   "metadata": {
    "collapsed": true
   },
   "outputs": [],
   "source": []
  },
  {
   "cell_type": "code",
   "execution_count": null,
   "metadata": {
    "collapsed": true
   },
   "outputs": [],
   "source": []
  }
 ],
 "metadata": {
  "kernelspec": {
   "display_name": "Python 3",
   "language": "python",
   "name": "python3"
  },
  "language_info": {
   "codemirror_mode": {
    "name": "ipython",
    "version": 3
   },
   "file_extension": ".py",
   "mimetype": "text/x-python",
   "name": "python",
   "nbconvert_exporter": "python",
   "pygments_lexer": "ipython3",
   "version": "3.6.0"
  }
 },
 "nbformat": 4,
 "nbformat_minor": 2
}
